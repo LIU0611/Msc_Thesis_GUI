{
 "cells": [
  {
   "cell_type": "code",
   "execution_count": 3,
   "id": "4a8125ce-c812-4936-b44c-adda65f3c908",
   "metadata": {},
   "outputs": [],
   "source": [
    "from hapi import *\n",
    "from pylab import show,plot,subplot,xlim,ylim,title,legend,xlabel,ylabel #,hold"
   ]
  },
  {
   "cell_type": "code",
   "execution_count": 4,
   "id": "9857cb8e-41c7-40e8-a261-b1cdffa5a9a0",
   "metadata": {},
   "outputs": [
    {
     "name": "stdout",
     "output_type": "stream",
     "text": [
      "Using data\n",
      "\n",
      "O3\n",
      "                     Lines parsed: 8114\n",
      "H2O\n",
      "                     Lines parsed: 11257\n",
      "CO2\n",
      "                     Lines parsed: 3769\n",
      "O2\n",
      "                     Lines parsed: 489\n"
     ]
    }
   ],
   "source": [
    "db_begin('data')"
   ]
  },
  {
   "cell_type": "code",
   "execution_count": 5,
   "id": "6d807bbb-27fd-4502-981c-332ed0c41e43",
   "metadata": {},
   "outputs": [
    {
     "name": "stdout",
     "output_type": "stream",
     "text": [
      "--------------------------------------------------------------\n",
      "Hello, this is an interactive help system of HITRANonline API.\n",
      "--------------------------------------------------------------\n",
      "Run getHelp(.) with one of the following arguments:\n",
      "    tutorial  -  interactive tutorials on HAPI\n",
      "    units     -  units used in calculations\n",
      "    index     -  index of available HAPI functions\n"
     ]
    }
   ],
   "source": [
    "getHelp()"
   ]
  },
  {
   "cell_type": "code",
   "execution_count": 7,
   "id": "02875d49-f000-420c-8441-ae6feef87f6b",
   "metadata": {},
   "outputs": [
    {
     "name": "stdout",
     "output_type": "stream",
     "text": [
      "-----------------------------------\n",
      "This is a tutorial section of help.\n",
      "-----------------------------------\n",
      "Please choose the subject of tutorial:\n",
      "    data      -  downloading the data and working with it\n",
      "    spectra   -  calculating spectral functions\n",
      "    plotting  -  visualizing data with matplotlib\n",
      "    python    -  Python quick start guide\n"
     ]
    }
   ],
   "source": [
    "getHelp(tutorial)"
   ]
  },
  {
   "cell_type": "code",
   "execution_count": 8,
   "id": "c762b663-beb7-4da6-8c20-78d2178f9a66",
   "metadata": {},
   "outputs": [
    {
     "name": "stdout",
     "output_type": "stream",
     "text": [
      "Help on function PROFILE_HT in module hapi.hapi:\n",
      "\n",
      "PROFILE_HT(Nu, GammaD, Gamma0, Gamma2, Delta0, Delta2, NuVC, Eta, WnGrid, YRosen=0.0, Sw=1.0)\n",
      "    #-------------------------------------------------\n",
      "    #      \"pCqSDHC\": partially-Correlated quadratic-Speed-Dependent \"Hard-Collision\"\n",
      "    #      Subroutine to Compute the complex normalized spectral shape of an \n",
      "    #      isolated line by the pCqSDHC model\n",
      "    #\n",
      "    #      References:\n",
      "    #\n",
      "    #      1) N.H. Ngo, D. Lisak, H. Tran, J.-M. Hartmann.\n",
      "    #         An isolated line-shape model to go beyond the Voigt profile in \n",
      "    #         spectroscopic databases and radiative transfer codes.\n",
      "    #         JQSRT, Volume 129, November 2013, Pages 89–100\n",
      "    #         http://dx.doi.org/10.1016/j.jqsrt.2013.05.034\n",
      "    #\n",
      "    #      2) H. Tran, N.H. Ngo, J.-M. Hartmann.\n",
      "    #         Efficient computation of some speed-dependent isolated line profiles.\n",
      "    #         JQSRT, Volume 129, November 2013, Pages 199–203\n",
      "    #         http://dx.doi.org/10.1016/j.jqsrt.2013.06.015\n",
      "    #\n",
      "    #      3) H. Tran, N.H. Ngo, J.-M. Hartmann.\n",
      "    #         Erratum to “Efficient computation of some speed-dependent isolated line profiles”.\n",
      "    #         JQSRT, Volume 134, February 2014, Pages 104\n",
      "    #         http://dx.doi.org/10.1016/j.jqsrt.2013.10.015\n",
      "    #\n",
      "    #      Input/Output Parameters of Routine (Arguments or Common)\n",
      "    #      ---------------------------------\n",
      "    #      Nu        : Unperturbed line position in cm-1 (Input).\n",
      "    #      GammaD    : Doppler HWHM in cm-1 (Input)\n",
      "    #      Gamma0    : Speed-averaged line-width in cm-1 (Input).       \n",
      "    #      Gamma2    : Speed dependence of the line-width in cm-1 (Input).\n",
      "    #      NuVC      : Velocity-changing frequency in cm-1 (Input).\n",
      "    #      Eta       : Correlation parameter, No unit (Input).\n",
      "    #      Delta0    : Speed-averaged line-shift in cm-1 (Input).\n",
      "    #      Delta2    : Speed dependence of the line-shift in cm-1 (Input)       \n",
      "    #      WnGrid    : Current WaveNumber of the Computation in cm-1 (Input).\n",
      "    #      YRosen    : 1st order (Rosenkranz) line mixing coefficients in cm-1 (Input)\n",
      "    #\n",
      "    #      The function has two outputs:\n",
      "    #      -----------------\n",
      "    #      (1): Real part of the normalized spectral shape (cm)\n",
      "    #      (2): Imaginary part of the normalized spectral shape (cm)\n",
      "    #\n",
      "    #      Called Routines: 'CPF'       (Complex Probability Function)\n",
      "    #      ---------------  'CPF3'      (Complex Probability Function for the region 3)\n",
      "    #\n",
      "    #      Based on a double precision Fortran version\n",
      "    #\n",
      "    #-------------------------------------------------\n",
      "\n"
     ]
    }
   ],
   "source": [
    "getHelp(PROFILE_HT)"
   ]
  },
  {
   "cell_type": "code",
   "execution_count": 9,
   "id": "3a3e03aa-e65a-4c63-b18b-42fb3b11eccb",
   "metadata": {},
   "outputs": [],
   "source": [
    "# 6.2 Fetching data\n",
    "# fetch(TableName, M, I, numin, numax)\n",
    "# fetch(TableName, M, I, numin, numax)"
   ]
  },
  {
   "cell_type": "code",
   "execution_count": 10,
   "id": "863bf35f-10ed-444e-9622-fef64add98fa",
   "metadata": {},
   "outputs": [],
   "source": [
    "# 6.3. Working with data\n",
    "# db_begin(db=None)\n",
    "# db_commit()\n",
    "# tableList()\n",
    "# describeTable(TableName)\n",
    "# select(TableName, DestinationTableName='__BUFFER__', ParameterNames=None, Conditions=None, Output=True, File=None)\n",
    "# sort(TableName, DestinationTableName=None, ParameterNames=None, Accending=True, Output=False, File=None)\n",
    "# group(TableName, DestinationTableName='__BUFFER__', ParameterNames=None, GroupParameterNames=None, Output=True)\n",
    "# extractColumns(TableName, SourceParameterName, ParameterFormats, ParameterNames=None, FixCol=False)\n",
    "# getColumn(TableName, ParameterName)\n",
    "# dropTable(TableName)"
   ]
  },
  {
   "cell_type": "code",
   "execution_count": null,
   "id": "af3e4bcd-8e93-4b78-9596-9040cdefb8f8",
   "metadata": {},
   "outputs": [],
   "source": [
    "# 6.4. Calculating spectra"
   ]
  },
  {
   "cell_type": "code",
   "execution_count": 14,
   "id": "5710caa5-38ba-4ae5-a9da-d5c62699bcb8",
   "metadata": {},
   "outputs": [],
   "source": [
    "# LINE PROFILES:\n",
    "# PROFILE_HT(sg0, GamD, Gam0, Gam2, Shift0, Shift2, anuVC, eta, sg)\n",
    "# PROFILE_VOIGT(sg0, GamD, Gam0, sg)\n",
    "# PROFILE_LORENTZ(sg0, Gam0, sg)\n",
    "# PROFILE_DOPPLER(sg0, GamD, sg)\n",
    "# partitionSum(M, I, T, step=None)"
   ]
  },
  {
   "cell_type": "code",
   "execution_count": 15,
   "id": "62c3cc98-c5ef-473b-9cd3-d082267ea6e3",
   "metadata": {},
   "outputs": [],
   "source": [
    "# ABSORPTION COEFFICIENTS & ABSORPTION SPECTRUM & RADIANCE SPECTRUM\n",
    "# Pages 46 - 50"
   ]
  },
  {
   "cell_type": "code",
   "execution_count": 16,
   "id": "f080fafb-b562-4f46-a6bb-12906aa22603",
   "metadata": {},
   "outputs": [],
   "source": [
    "# 6.5. Convolving spectra \n",
    "# SLIT FUNCTIONS:\n",
    "# RECTANGULAR : SLIT_RECTANGULAR\n",
    "# TRIANGULAR : SLIT_TRIANGULAR\n",
    "# GAUSSIAN : SLIT_GAUSSIAN\n",
    "# DIFFRACTION : SLIT_DIFFRACTION\n",
    "# MICHELSON : SLIT_MICHELSON\n",
    "# DISPERSION/LORENTZ : SLIT_DISPERSION\n",
    "# CONVOLVE SPECTRUM: convolveSpectrum(Omega, CrossSection, Resolution=0.1, \n",
    "# AF_wing=10.0, SlitFunction=<function SLIT_RECTANGULAR>)"
   ]
  },
  {
   "cell_type": "code",
   "execution_count": 17,
   "id": "789db7ff-c8dc-46ee-a904-0804e368c0c3",
   "metadata": {},
   "outputs": [],
   "source": [
    "# 6.6. Information on isotopologues\n",
    "# ABUNDANCE: abundance(M, I)\n",
    "# MOLECULAR MASS: molecularMass(M, I)\n",
    "# MOLECULE NAME: moleculeName(M)\n",
    "# ISOTOPOLOGUE NAME: isotopologueName(M, I)"
   ]
  },
  {
   "cell_type": "code",
   "execution_count": null,
   "id": "0ad530fd-4608-4e77-9223-366f012dff76",
   "metadata": {},
   "outputs": [],
   "source": [
    "# 6.7. Miscellaneous\n",
    "# GET X AND Y FOR A STICK SPECTRUM: getStickXY(TableName)\n",
    "# READING SIMPLE CROSS-SECTION FILE: read_xsect(filename)"
   ]
  }
 ],
 "metadata": {
  "kernelspec": {
   "display_name": "Python 3 (ipykernel)",
   "language": "python",
   "name": "python3"
  },
  "language_info": {
   "codemirror_mode": {
    "name": "ipython",
    "version": 3
   },
   "file_extension": ".py",
   "mimetype": "text/x-python",
   "name": "python",
   "nbconvert_exporter": "python",
   "pygments_lexer": "ipython3",
   "version": "3.9.12"
  }
 },
 "nbformat": 4,
 "nbformat_minor": 5
}
