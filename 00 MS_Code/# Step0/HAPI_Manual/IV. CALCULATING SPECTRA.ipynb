{
 "cells": [
  {
   "cell_type": "code",
   "execution_count": 1,
   "id": "79736cf3-aa4c-4bc0-b9a2-c833ddbdf589",
   "metadata": {},
   "outputs": [
    {
     "name": "stdout",
     "output_type": "stream",
     "text": [
      "HAPI version: 1.2.2.0\n",
      "To get the most up-to-date version please check http://hitran.org/hapi\n",
      "ATTENTION: Python versions of partition sums from TIPS-2021 are now available in HAPI code\n",
      "\n",
      "           MIT license: Copyright 2021 HITRAN team, see more at http://hitran.org. \n",
      "\n",
      "           If you use HAPI in your research or software development,\n",
      "           please cite it using the following reference:\n",
      "           R.V. Kochanov, I.E. Gordon, L.S. Rothman, P. Wcislo, C. Hill, J.S. Wilzewski,\n",
      "           HITRAN Application Programming Interface (HAPI): A comprehensive approach\n",
      "           to working with spectroscopic data, J. Quant. Spectrosc. Radiat. Transfer 177, 15-30 (2016)\n",
      "           DOI: 10.1016/j.jqsrt.2016.03.005\n",
      "\n",
      "           ATTENTION: This is the core version of the HITRAN Application Programming Interface.\n",
      "                      For more efficient implementation of the absorption coefficient routine, \n",
      "                      as well as for new profiles, parameters and other functional,\n",
      "                      please consider using HAPI2 extension library.\n",
      "                      HAPI2 package is available at http://github.com/hitranonline/hapi2\n",
      "\n",
      "Using data\n",
      "\n",
      "H2O\n",
      "                     Lines parsed: 11257\n",
      "O2\n",
      "                     Lines parsed: 489\n"
     ]
    }
   ],
   "source": [
    "from hapi import *\n",
    "db_begin('data')"
   ]
  },
  {
   "cell_type": "code",
   "execution_count": null,
   "id": "2c2fd94c-9cd9-4db5-b5d2-1c89a7b74bfe",
   "metadata": {},
   "outputs": [],
   "source": [
    "# USING LINE PROFILES"
   ]
  },
  {
   "cell_type": "code",
   "execution_count": 2,
   "id": "00bc85f0-d6ed-4f16-8b9c-3315ac936dbf",
   "metadata": {
    "collapsed": true,
    "jupyter": {
     "outputs_hidden": true
    },
    "tags": []
   },
   "outputs": [
    {
     "name": "stdout",
     "output_type": "stream",
     "text": [
      "Help on function PROFILE_HT in module hapi.hapi:\n",
      "\n",
      "PROFILE_HT(Nu, GammaD, Gamma0, Gamma2, Delta0, Delta2, NuVC, Eta, WnGrid, YRosen=0.0, Sw=1.0)\n",
      "    #-------------------------------------------------\n",
      "    #      \"pCqSDHC\": partially-Correlated quadratic-Speed-Dependent \"Hard-Collision\"\n",
      "    #      Subroutine to Compute the complex normalized spectral shape of an \n",
      "    #      isolated line by the pCqSDHC model\n",
      "    #\n",
      "    #      References:\n",
      "    #\n",
      "    #      1) N.H. Ngo, D. Lisak, H. Tran, J.-M. Hartmann.\n",
      "    #         An isolated line-shape model to go beyond the Voigt profile in \n",
      "    #         spectroscopic databases and radiative transfer codes.\n",
      "    #         JQSRT, Volume 129, November 2013, Pages 89–100\n",
      "    #         http://dx.doi.org/10.1016/j.jqsrt.2013.05.034\n",
      "    #\n",
      "    #      2) H. Tran, N.H. Ngo, J.-M. Hartmann.\n",
      "    #         Efficient computation of some speed-dependent isolated line profiles.\n",
      "    #         JQSRT, Volume 129, November 2013, Pages 199–203\n",
      "    #         http://dx.doi.org/10.1016/j.jqsrt.2013.06.015\n",
      "    #\n",
      "    #      3) H. Tran, N.H. Ngo, J.-M. Hartmann.\n",
      "    #         Erratum to “Efficient computation of some speed-dependent isolated line profiles”.\n",
      "    #         JQSRT, Volume 134, February 2014, Pages 104\n",
      "    #         http://dx.doi.org/10.1016/j.jqsrt.2013.10.015\n",
      "    #\n",
      "    #      Input/Output Parameters of Routine (Arguments or Common)\n",
      "    #      ---------------------------------\n",
      "    #      Nu        : Unperturbed line position in cm-1 (Input).\n",
      "    #      GammaD    : Doppler HWHM in cm-1 (Input)\n",
      "    #      Gamma0    : Speed-averaged line-width in cm-1 (Input).       \n",
      "    #      Gamma2    : Speed dependence of the line-width in cm-1 (Input).\n",
      "    #      NuVC      : Velocity-changing frequency in cm-1 (Input).\n",
      "    #      Eta       : Correlation parameter, No unit (Input).\n",
      "    #      Delta0    : Speed-averaged line-shift in cm-1 (Input).\n",
      "    #      Delta2    : Speed dependence of the line-shift in cm-1 (Input)       \n",
      "    #      WnGrid    : Current WaveNumber of the Computation in cm-1 (Input).\n",
      "    #      YRosen    : 1st order (Rosenkranz) line mixing coefficients in cm-1 (Input)\n",
      "    #\n",
      "    #      The function has two outputs:\n",
      "    #      -----------------\n",
      "    #      (1): Real part of the normalized spectral shape (cm)\n",
      "    #      (2): Imaginary part of the normalized spectral shape (cm)\n",
      "    #\n",
      "    #      Called Routines: 'CPF'       (Complex Probability Function)\n",
      "    #      ---------------  'CPF3'      (Complex Probability Function for the region 3)\n",
      "    #\n",
      "    #      Based on a double precision Fortran version\n",
      "    #\n",
      "    #-------------------------------------------------\n",
      "\n"
     ]
    }
   ],
   "source": [
    "getHelp(PROFILE_HT)"
   ]
  },
  {
   "cell_type": "code",
   "execution_count": 3,
   "id": "de7a6e59-30bf-4219-8c85-60852469c9e8",
   "metadata": {},
   "outputs": [
    {
     "data": {
      "text/plain": [
       "0.06098218071756927"
      ]
     },
     "execution_count": 3,
     "metadata": {},
     "output_type": "execute_result"
    }
   ],
   "source": [
    "from numpy import arange\n",
    "w0 = 1000.\n",
    "GammaD = 0.005\n",
    "Gamma0 = 0.2\n",
    "Gamma2 = 0.01 * Gamma0\n",
    "Delta0 = 0.002\n",
    "Delta2 = 0.001 * Delta0\n",
    "nuVC = 0.2\n",
    "eta = 0.5\n",
    "Dw = 1.\n",
    "ww = arange(w0-Dw, w0+Dw, 0.01) # GRID WITH THE STEP 0.01 \n",
    "l1 = PROFILE_HT(w0,GammaD,Gamma0,Gamma2,Delta0,Delta2,nuVC,eta,ww)[0]\n",
    "# now l1 contains values of HT profile calculates on the grid ww\n",
    "l1 # print calculated values"
   ]
  },
  {
   "cell_type": "code",
   "execution_count": null,
   "id": "86ff5cd6-a7e7-4ceb-bebb-45efe64ba097",
   "metadata": {},
   "outputs": [],
   "source": [
    "# USING PARTITION SUMS"
   ]
  },
  {
   "cell_type": "code",
   "execution_count": 4,
   "id": "acd73d78-a98d-4746-8aea-398ac3dedc94",
   "metadata": {},
   "outputs": [
    {
     "data": {
      "text/plain": [
       "[20.97967, 25.43182, 30.16085]"
      ]
     },
     "execution_count": 4,
     "metadata": {},
     "output_type": "execute_result"
    }
   ],
   "source": [
    "Q = partitionSum(1,1,[70,80,90])\n",
    "Q"
   ]
  },
  {
   "cell_type": "code",
   "execution_count": 6,
   "id": "d7b35357-5fea-494a-a0bd-9f1f70516f99",
   "metadata": {},
   "outputs": [
    {
     "data": {
      "text/plain": [
       "array([   20.97967   ,    21.41201985,    21.84726656, ...,\n",
       "       15904.940055  , 15920.78392   , 15936.640565  ])"
      ]
     },
     "execution_count": 6,
     "metadata": {},
     "output_type": "execute_result"
    }
   ],
   "source": [
    "T,Q = partitionSum(1,1,[70,3000],step=1.0) \n",
    "Q"
   ]
  },
  {
   "cell_type": "code",
   "execution_count": null,
   "id": "f8647ee6-c772-4c45-9468-1c40fd5ab73d",
   "metadata": {},
   "outputs": [],
   "source": [
    "# CALCULATING ABSORPTION COEFFICIENTS"
   ]
  },
  {
   "cell_type": "code",
   "execution_count": 7,
   "id": "94c880c1-3d38-4d50-9e67-6562872d9baf",
   "metadata": {},
   "outputs": [
    {
     "name": "stdout",
     "output_type": "stream",
     "text": [
      "\n",
      "Data is fetched from http://hitran.org\n",
      "\n",
      "BEGIN DOWNLOAD: CO2\n",
      "  65536 bytes written to data/CO2.data\n",
      "  65536 bytes written to data/CO2.data\n",
      "  65536 bytes written to data/CO2.data\n",
      "  65536 bytes written to data/CO2.data\n",
      "  65536 bytes written to data/CO2.data\n",
      "  65536 bytes written to data/CO2.data\n",
      "  65536 bytes written to data/CO2.data\n",
      "  65536 bytes written to data/CO2.data\n",
      "  65536 bytes written to data/CO2.data\n",
      "  65536 bytes written to data/CO2.data\n",
      "Header written to data/CO2.header\n",
      "END DOWNLOAD\n",
      "                     Lines parsed: 3769\n",
      "PROCESSED\n"
     ]
    }
   ],
   "source": [
    "fetch('CO2',2,1,2000,2100)"
   ]
  },
  {
   "cell_type": "code",
   "execution_count": 8,
   "id": "66f1e707-cca2-4fef-a840-ba563465fa8c",
   "metadata": {},
   "outputs": [
    {
     "name": "stdout",
     "output_type": "stream",
     "text": [
      "{'air': 1.0}\n",
      "0.841758 seconds elapsed for abscoef; nlines = 3769\n"
     ]
    }
   ],
   "source": [
    "nu,coef = absorptionCoefficient_Lorentz(SourceTables='CO2', Diluent={'air':1.0})\n",
    "\n",
    "# This example calculates a Lorentz cross section using the whole set of lines in the \"CO2\" table. \n",
    "# This is the simplest possible way to use these functions, \n",
    "# because the major part of parameters are constrained to their default values."
   ]
  },
  {
   "cell_type": "code",
   "execution_count": 11,
   "id": "de44614e-297d-46ce-b302-f0f8a1400c83",
   "metadata": {},
   "outputs": [
    {
     "data": {
      "text/plain": [
       "[<matplotlib.lines.Line2D at 0x7ff6100559a0>]"
      ]
     },
     "execution_count": 11,
     "metadata": {},
     "output_type": "execute_result"
    },
    {
     "data": {
      "image/png": "[encoded data removed]",
      "text/plain": [
       "<Figure size 432x288 with 1 Axes>"
      ]
     },
     "metadata": {
      "needs_background": "light"
     },
     "output_type": "display_data"
    }
   ],
   "source": [
    "from pylab import plot\n",
    "plot(nu,coef)\n",
    "# visualize it using a plotter (Matplotlib)\n",
    "# CO2, T = 296 K, p = 1 atm"
   ]
  },
  {
   "cell_type": "code",
   "execution_count": 12,
   "id": "fe065d4a-b30d-4e5b-a312-d77a1c3acf43",
   "metadata": {},
   "outputs": [],
   "source": [
    "## CALCULATING ABSORPTION, TRANSMITTANCE, AND RADIANCE SPECTRA"
   ]
  },
  {
   "cell_type": "code",
   "execution_count": 13,
   "id": "ca90ea9b-41e7-43d5-b69b-846ad348fd38",
   "metadata": {},
   "outputs": [
    {
     "name": "stdout",
     "output_type": "stream",
     "text": [
      "{'air': 1.0}\n",
      "0.845269 seconds elapsed for abscoef; nlines = 3769\n"
     ]
    }
   ],
   "source": [
    "nu,coef = absorptionCoefficient_Lorentz(SourceTables='CO2',HITRAN_units=False)"
   ]
  },
  {
   "cell_type": "code",
   "execution_count": 14,
   "id": "1d2ee22b-8f74-4524-9196-1def3c7de113",
   "metadata": {},
   "outputs": [],
   "source": [
    "nu,absorp = absorptionSpectrum(nu,coef)"
   ]
  },
  {
   "cell_type": "code",
   "execution_count": 15,
   "id": "c0de159c-9074-44a0-8356-72f4eed89bf1",
   "metadata": {},
   "outputs": [],
   "source": [
    "nu,trans = transmittanceSpectrum(nu,coef)"
   ]
  },
  {
   "cell_type": "code",
   "execution_count": 16,
   "id": "66861965-ee45-4292-aec0-3861b6861cc4",
   "metadata": {},
   "outputs": [],
   "source": [
    "nu,radi = radianceSpectrum(nu,coef)"
   ]
  },
  {
   "cell_type": "code",
   "execution_count": 17,
   "id": "ef97ec07-6f34-43b5-811e-bef8555f22e3",
   "metadata": {},
   "outputs": [],
   "source": [
    "# APPLYING INSTRUMENTAL FUNCTIONS"
   ]
  },
  {
   "cell_type": "code",
   "execution_count": 18,
   "id": "d65489b0-0ce2-46c7-8574-edfddb50b180",
   "metadata": {},
   "outputs": [
    {
     "name": "stdout",
     "output_type": "stream",
     "text": [
      "  RECTANGULAR : SLIT_RECTANGULAR\n",
      "  TRIANGULAR  : SLIT_TRIANGULAR\n",
      "  GAUSSIAN    : SLIT_GAUSSIAN\n",
      "  DIFFRACTION : SLIT_DIFFRACTION\n",
      "  MICHELSON   : SLIT_MICHELSON\n",
      "  DISPERSION/LORENTZ : SLIT_DISPERSION\n"
     ]
    }
   ],
   "source": [
    "getHelp(slit_functions)"
   ]
  },
  {
   "cell_type": "code",
   "execution_count": 19,
   "id": "24ca5658-bc0e-4bb7-9ced-c5d335edc1b2",
   "metadata": {},
   "outputs": [
    {
     "name": "stdout",
     "output_type": "stream",
     "text": [
      "Help on function SLIT_MICHELSON in module hapi.hapi:\n",
      "\n",
      "SLIT_MICHELSON(x, g)\n",
      "    Instrumental (slit) function.\n",
      "    B(x) = 2/γ*sin(2pi*x/γ)/(2pi*x/γ) if x!=0 else 1,\n",
      "    where 1/γ is the maximum optical path difference.\n",
      "\n"
     ]
    }
   ],
   "source": [
    "getHelp(SLIT_MICHELSON)"
   ]
  },
  {
   "cell_type": "code",
   "execution_count": 24,
   "id": "3b613418-5b1d-4a15-a3fc-1d53f1bd41e8",
   "metadata": {},
   "outputs": [],
   "source": [
    "nu_,trans_,i1,i2,slit = convolveSpectrum(nu,trans)\n",
    "\n",
    "# nu_, trans_ – wavenumbers and transmittance for the resulting convolved spectrum.\n",
    "# i1,i2 – indexes for initial nu,trans spectrum denoting the part of wavenumber range which was taken for \n",
    "# convolved spectrum. Thus, the resulting spectrum is calculated on nu[i1:i2]\n",
    "# slit – array of slit function values calculated on grid “nu”"
   ]
  },
  {
   "cell_type": "code",
   "execution_count": null,
   "id": "a00f15f0-1b8f-45eb-8252-470e1a4c456d",
   "metadata": {},
   "outputs": [],
   "source": [
    "# Note, in order to achieve more flexibility, one has to specify most of the optional parameters. \n",
    "# For instance, a more complete call is as follows:"
   ]
  },
  {
   "cell_type": "code",
   "execution_count": 22,
   "id": "df5bdee6-6b99-4bc2-9dcc-70a9c9c0a7c3",
   "metadata": {},
   "outputs": [],
   "source": [
    "nu_,trans_,i1,i2,slit = convolveSpectrum(nu,trans,SlitFunction=SLIT_MICHELSON,Resolution=1.0,AF_wing=20.0)"
   ]
  },
  {
   "cell_type": "code",
   "execution_count": 23,
   "id": "ad36e7fc-3047-4c25-844f-bfaa630c5edd",
   "metadata": {},
   "outputs": [],
   "source": [
    "# ALIASES"
   ]
  },
  {
   "cell_type": "code",
   "execution_count": null,
   "id": "ca9ae384-81f3-4c18-a187-a2a9c9017fd7",
   "metadata": {},
   "outputs": [],
   "source": []
  }
 ],
 "metadata": {
  "kernelspec": {
   "display_name": "Python 3 (ipykernel)",
   "language": "python",
   "name": "python3"
  },
  "language_info": {
   "codemirror_mode": {
    "name": "ipython",
    "version": 3
   },
   "file_extension": ".py",
   "mimetype": "text/x-python",
   "name": "python",
   "nbconvert_exporter": "python",
   "pygments_lexer": "ipython3",
   "version": "3.9.12"
  }
 },
 "nbformat": 4,
 "nbformat_minor": 5
}
